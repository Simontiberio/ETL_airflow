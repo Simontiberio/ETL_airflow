{
 "cells": [
  {
   "cell_type": "code",
   "execution_count": 1,
   "id": "2173a8b1-5374-4b83-bfe2-e3225937f808",
   "metadata": {},
   "outputs": [],
   "source": [
    "import requests\n",
    "import os"
   ]
  },
  {
   "cell_type": "code",
   "execution_count": 14,
   "id": "a0bbb9fc-be71-49fd-afad-2aca1f6684ca",
   "metadata": {},
   "outputs": [
    {
     "name": "stdout",
     "output_type": "stream",
     "text": [
      "Cotización actual del dólar: 971.754398 ARS\n"
     ]
    }
   ],
   "source": [
    "def obtener_cotizacion_dolar(api_key):\n",
    "    # URL base de la API\n",
    "    url = \"https://api.apilayer.com/exchangerates_data/latest\"\n",
    "    \n",
    "    # Parámetros de la solicitud\n",
    "    params = {\n",
    "        \"symbols\": \"ARS\",  # Moneda que quieres obtener (USD en este caso)\n",
    "        \"base\": \"USD\"      # Moneda base (ARS en este caso, o cambiar si usas otra)\n",
    "    }\n",
    "\n",
    "    # Encabezados para pasar la API Key\n",
    "    headers = {\n",
    "        \"apikey\": api_key\n",
    "    }\n",
    "\n",
    "    # Realizamos la solicitud\n",
    "    response = requests.get(url, headers=headers, params=params)\n",
    "\n",
    "    # Verificamos el estado de la respuesta\n",
    "    if response.status_code == 200:\n",
    "        data = response.json()\n",
    "        cotizacion_dolar = data['rates']['ARS']\n",
    "        print(f\"Cotización actual del dólar: {cotizacion_dolar} ARS\")\n",
    "    else:\n",
    "        print(f\"Error al obtener la cotización: {response.status_code}, {response.text}\")\n",
    "\n",
    "# Sustituye con tu clave API de apilayer\n",
    "api_key = \"api_key\"\n",
    "\n",
    "# Llamamos a la función para obtener la cotización del dólar\n",
    "obtener_cotizacion_dolar(api_key)"
   ]
  },
  {
   "cell_type": "code",
   "execution_count": 15,
   "id": "20a573f8-ebac-4c88-a085-6670b43ae31c",
   "metadata": {},
   "outputs": [],
   "source": [
    "url = \"https://api.apilayer.com/exchangerates_data/latest\""
   ]
  },
  {
   "cell_type": "code",
   "execution_count": 16,
   "id": "d88601f5-e004-48c2-a79a-994f65ec55da",
   "metadata": {},
   "outputs": [],
   "source": [
    " params = {\"symbols\": \"ARS\",  \n",
    "        \"base\": \"USD\" }"
   ]
  },
  {
   "cell_type": "code",
   "execution_count": 17,
   "id": "44ddb155-6b31-401f-a8cf-38d3736b0fbd",
   "metadata": {},
   "outputs": [],
   "source": [
    "api_key = \"api_key\""
   ]
  },
  {
   "cell_type": "code",
   "execution_count": 18,
   "id": "d7e5e723-730f-46fe-93d8-6d1d2f2a8918",
   "metadata": {},
   "outputs": [],
   "source": [
    "response = requests.get(url, headers=headers, params=params)\n"
   ]
  },
  {
   "cell_type": "code",
   "execution_count": 22,
   "id": "b88432d6-7213-4108-93e5-60bf0b8d388c",
   "metadata": {},
   "outputs": [
    {
     "data": {
      "text/plain": [
       "971.75"
      ]
     },
     "execution_count": 22,
     "metadata": {},
     "output_type": "execute_result"
    }
   ],
   "source": [
    "data = response.json()\n",
    "round(data ['rates']['ARS'],2)"
   ]
  },
  {
   "cell_type": "code",
   "execution_count": 3,
   "id": "779ffed4-7e5b-4be4-9e7c-3fbcbc24afa0",
   "metadata": {},
   "outputs": [],
   "source": [
    "import requests\n",
    "\n",
    "url = \"https://api.apilayer.com/exchangerates_data/latest?symbols={symbols}&base={base}\"\n",
    "\n",
    "params = {\n",
    "        \"symbols\": \"USD\",\n",
    "        \"base\": \"ARS\" }\n",
    "headers= {\n",
    "  \"apikey\": \"api_key\"\n",
    "}\n",
    "\n",
    "response = requests.request(\"GET\", url, headers=headers, params = params)\n",
    "\n",
    "status_code = response.status_code\n",
    "result = response.text\n",
    "    "
   ]
  },
  {
   "cell_type": "code",
   "execution_count": null,
   "id": "f8c7e702-beca-49a1-b629-611931ecf84f",
   "metadata": {},
   "outputs": [],
   "source": []
  },
  {
   "cell_type": "code",
   "execution_count": null,
   "id": "36f97d50-338e-474f-8b75-9f96c1a12ba6",
   "metadata": {},
   "outputs": [],
   "source": []
  }
 ],
 "metadata": {
  "kernelspec": {
   "display_name": "Python 3 (ipykernel)",
   "language": "python",
   "name": "python3"
  },
  "language_info": {
   "codemirror_mode": {
    "name": "ipython",
    "version": 3
   },
   "file_extension": ".py",
   "mimetype": "text/x-python",
   "name": "python",
   "nbconvert_exporter": "python",
   "pygments_lexer": "ipython3",
   "version": "3.10.0"
  }
 },
 "nbformat": 4,
 "nbformat_minor": 5
}
