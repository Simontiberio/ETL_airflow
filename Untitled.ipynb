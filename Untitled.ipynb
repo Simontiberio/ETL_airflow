{
 "cells": [
  {
   "cell_type": "code",
   "execution_count": 1,
   "id": "2173a8b1-5374-4b83-bfe2-e3225937f808",
   "metadata": {},
   "outputs": [],
   "source": [
    "import requests"
   ]
  },
  {
   "cell_type": "code",
   "execution_count": null,
   "id": "a0bbb9fc-be71-49fd-afad-2aca1f6684ca",
   "metadata": {},
   "outputs": [],
   "source": [
    "def obtener_cotizacion_dolar(api_key):\n",
    "    # URL base de la API\n",
    "    url = \"https://api.apilayer.com/exchangerates_data/latest\"\n",
    "    \n",
    "    # Parámetros de la solicitud\n",
    "    params = {\n",
    "        \"symbols\": \"USD\",  # Moneda que quieres obtener (USD en este caso)\n",
    "        \"base\": \"ARS\"      # Moneda base (ARS en este caso, o cambiar si usas otra)\n",
    "    }\n",
    "\n",
    "    # Encabezados para pasar la API Key\n",
    "    headers = {\n",
    "        \"apikey\": api_key\n",
    "    }\n",
    "\n",
    "    # Realizamos la solicitud\n",
    "    response = requests.get(url, headers=headers, params=params)\n",
    "\n",
    "    # Verificamos el estado de la respuesta\n",
    "    if response.status_code == 200:\n",
    "        data = response.json()\n",
    "        cotizacion_dolar = data['rates']['USD']\n",
    "        print(f\"Cotización actual del dólar: {cotizacion_dolar} ARS\")\n",
    "    else:\n",
    "        print(f\"Error al obtener la cotización: {response.status_code}, {response.text}\")\n",
    "\n",
    "# Sustituye con tu clave API de apilayer\n",
    "api_key = \"TU_API_KEY\"\n",
    "\n",
    "# Llamamos a la función para obtener la cotización del dólar\n",
    "obtener_cotizacion_dolar(api_key)"
   ]
  },
  {
   "cell_type": "code",
   "execution_count": 2,
   "id": "20a573f8-ebac-4c88-a085-6670b43ae31c",
   "metadata": {},
   "outputs": [],
   "source": [
    "url = \"https://api.apilayer.com/exchangerates_data/latest\""
   ]
  },
  {
   "cell_type": "code",
   "execution_count": 3,
   "id": "d88601f5-e004-48c2-a79a-994f65ec55da",
   "metadata": {},
   "outputs": [],
   "source": [
    " params = {\"symbols\": \"USD\",  \n",
    "        \"base\": \"ARS\" }"
   ]
  },
  {
   "cell_type": "code",
   "execution_count": null,
   "id": "44ddb155-6b31-401f-a8cf-38d3736b0fbd",
   "metadata": {},
   "outputs": [],
   "source": []
  }
 ],
 "metadata": {
  "kernelspec": {
   "display_name": "Python 3 (ipykernel)",
   "language": "python",
   "name": "python3"
  },
  "language_info": {
   "codemirror_mode": {
    "name": "ipython",
    "version": 3
   },
   "file_extension": ".py",
   "mimetype": "text/x-python",
   "name": "python",
   "nbconvert_exporter": "python",
   "pygments_lexer": "ipython3",
   "version": "3.10.0"
  }
 },
 "nbformat": 4,
 "nbformat_minor": 5
}
