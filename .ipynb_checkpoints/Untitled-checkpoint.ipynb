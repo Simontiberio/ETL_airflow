{
 "cells": [
  {
   "cell_type": "code",
   "execution_count": 50,
   "id": "44ddb155-6b31-401f-a8cf-38d3736b0fbd",
   "metadata": {},
   "outputs": [],
   "source": [
    "from sqlalchemy import create_engine\n",
    "\n",
    "\n",
    "\n",
    "# Create URL to connect with SQLAlchemy\n",
    "connection_url = f\"postgresql+psycopg2://{REDSHIFT_USER}:{REDSHIFT_PASSWORD}@{REDSHIFT_HOST}:{REDSHIFT_PORT}/{REDSHIFT_DB}\"\n",
    "\n",
    "# Create connection with SQLAlchemy\n",
    "engine = create_engine(connection_url)\n"
   ]
  },
  {
   "cell_type": "code",
   "execution_count": 51,
   "id": "311a3977-9bb5-4598-81d4-3e5c51a5e8c4",
   "metadata": {},
   "outputs": [
    {
     "name": "stdout",
     "output_type": "stream",
     "text": [
      "Fecha actual desde Redshift: 2024-10-07\n"
     ]
    }
   ],
   "source": [
    "try:\n",
    "    with engine.connect() as connection:\n",
    "        \n",
    "        result = connection.execute(\"SELECT current_date;\")\n",
    "        for row in result:\n",
    "            print(\"Fecha actual desde Redshift:\", row[0])\n",
    "except Exception as e:\n",
    "    print(f\"Error al conectar con Redshift: {e}\")"
   ]
  },
  {
   "cell_type": "code",
   "execution_count": 52,
   "id": "b88ef449-d04a-4435-82f2-367481925923",
   "metadata": {},
   "outputs": [],
   "source": [
    "import pandas as pd\n",
    "from sqlalchemy import create_engine\n",
    "\n",
    "def load_data(transformed_file, redshift_table, connection_url):\n",
    "    # Read csv file.\n",
    "    df = pd.read_csv(transformed_file)\n",
    "\n",
    "    # Create connection with db.\n",
    "    engine = create_engine(connection_url)\n",
    "\n",
    "    # Load data into redshift.\n",
    "    df.to_sql(redshift_table, con=engine, if_exists='replace', index=False, method='multi')\n",
    "    \n",
    "    print(f\"Data loaded into Redshift table {redshift_table}\")\n"
   ]
  },
  {
   "cell_type": "code",
   "execution_count": null,
   "id": "fdb626cc-6121-44a7-aa43-001b25c97811",
   "metadata": {},
   "outputs": [],
   "source": []
  },
  {
   "cell_type": "code",
   "execution_count": null,
   "id": "eeee94a3-3463-4bff-abfb-2ddd8c51c61b",
   "metadata": {},
   "outputs": [],
   "source": []
  }
 ],
 "metadata": {
  "kernelspec": {
   "display_name": "Python 3 (ipykernel)",
   "language": "python",
   "name": "python3"
  },
  "language_info": {
   "codemirror_mode": {
    "name": "ipython",
    "version": 3
   },
   "file_extension": ".py",
   "mimetype": "text/x-python",
   "name": "python",
   "nbconvert_exporter": "python",
   "pygments_lexer": "ipython3",
   "version": "3.10.0"
  }
 },
 "nbformat": 4,
 "nbformat_minor": 5
}
