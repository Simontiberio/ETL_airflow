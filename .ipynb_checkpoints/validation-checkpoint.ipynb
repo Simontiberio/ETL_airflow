{
 "cells": [
  {
   "cell_type": "code",
   "execution_count": 5,
   "metadata": {},
   "outputs": [],
   "source": [
    "\n",
    "import os\n",
    "from pathlib import Path\n",
    "import pandas as pd\n",
    "\n",
    "base_dir = './base_datos/inventario'\n",
    "base_path = Path(base_dir)\n",
    "list_prices_file = 'list_price_ferrimac.xlsx'\n",
    "monetized_stock_file = 'monetized_stock.xlsx'\n",
    "\n",
    "ventas_unidades = 'ventas_unidades.xlsx'\n",
    "stock_file = 'stock_ferrimac.xlsx'\n",
    "quotes_file = 'data_price.csv'\n",
    "\n",
    "date = '2024-10-10'\n",
    "\n",
    "stock_path = base_path / stock_file\n",
    "list_prices_path = base_path / list_prices_file\n",
    "quotes_path = base_path / quotes_file\n",
    "monetized_stock_path = base_path / monetized_stock_file"
   ]
  },
  {
   "cell_type": "code",
   "execution_count": 6,
   "metadata": {},
   "outputs": [
    {
     "name": "stdout",
     "output_type": "stream",
     "text": [
      "2024-10-10 00:00:00\n"
     ]
    }
   ],
   "source": [
    "date = pd.to_datetime(date, format='%Y-%m-%d')\n",
    "print(date)"
   ]
  },
  {
   "cell_type": "code",
   "execution_count": 12,
   "metadata": {},
   "outputs": [
    {
     "name": "stderr",
     "output_type": "stream",
     "text": [
      "C:\\Users\\Novakorp\\AppData\\Local\\Temp\\ipykernel_14560\\1454938282.py:6: FutureWarning: errors='ignore' is deprecated and will raise in a future version. Use to_datetime without passing `errors` and catch exceptions explicitly instead\n",
      "  df_stock.columns = pd.to_datetime(df_stock.columns, errors='ignore', dayfirst=True)\n",
      "C:\\Users\\Novakorp\\AppData\\Local\\Temp\\ipykernel_14560\\1454938282.py:6: UserWarning: Could not infer format, so each element will be parsed individually, falling back to `dateutil`. To ensure parsing is consistent and as-expected, please specify a format.\n",
      "  df_stock.columns = pd.to_datetime(df_stock.columns, errors='ignore', dayfirst=True)\n",
      "C:\\Users\\Novakorp\\AppData\\Local\\Temp\\ipykernel_14560\\1454938282.py:8: FutureWarning: errors='ignore' is deprecated and will raise in a future version. Use to_datetime without passing `errors` and catch exceptions explicitly instead\n",
      "  df_list_prices.columns = pd.to_datetime(df_list_prices.columns, errors='ignore', dayfirst=True)\n",
      "C:\\Users\\Novakorp\\AppData\\Local\\Temp\\ipykernel_14560\\1454938282.py:8: UserWarning: Could not infer format, so each element will be parsed individually, falling back to `dateutil`. To ensure parsing is consistent and as-expected, please specify a format.\n",
      "  df_list_prices.columns = pd.to_datetime(df_list_prices.columns, errors='ignore', dayfirst=True)\n"
     ]
    }
   ],
   "source": [
    "df_stock = pd.read_excel(stock_path, engine='openpyxl')\n",
    "df_quotes = pd.read_csv(quotes_path)\n",
    "df_list_prices = pd.read_excel(list_prices_path, engine='openpyxl')\n",
    "   \n",
    "   # Convert date columns to datetime format.\n",
    "df_stock.columns = pd.to_datetime(df_stock.columns, errors='ignore', dayfirst=True)\n",
    "df_quotes['date'] = pd.to_datetime(df_quotes['date'], errors='coerce', format='%Y-%m-%d')\n",
    "df_list_prices.columns = pd.to_datetime(df_list_prices.columns, errors='ignore', dayfirst=True)"
   ]
  },
  {
   "cell_type": "code",
   "execution_count": 5,
   "metadata": {},
   "outputs": [],
   "source": [
    "import pandas as pd\n",
    "from sqlalchemy import create_engine\n",
    "from sqlalchemy.engine import Engine\n",
    "from pathlib import Path\n",
    "\n",
    "\n",
    "def load_data(file: str):\n",
    "\n",
    "    '''It is a function that reads the file depending on its format, and stores it in a df. \n",
    "    It is a function that is used in the load_data_to_redshift function to load said df as a table in the DB.'''\n",
    "\n",
    "\n",
    "    # Get extesion file.\n",
    "\n",
    "    file_extension = Path(file).suffix.lower()\n",
    "    \n",
    "    # Define the path of file.\n",
    "    file_path = Path(f\"./base_datos/inventario/{file}\")\n",
    "\n",
    "    # Check if the file exist.\n",
    "    if not file_path.exists():\n",
    "        print(f\"Error: File'{file_path}' not found.\")\n",
    "        return None\n",
    "\n",
    "    # initialized dataframe.\n",
    "    df = None\n",
    "\n",
    "    # Read files depending on the formats.\n",
    "    try:\n",
    "        if file_extension == '.csv':\n",
    "            df = pd.read_csv(file_path)\n",
    "            df = df.apply(lambda col: col.astype(str) if col.dtype == 'object' else col)\n",
    "            file = Path(file).stem\n",
    "            file_path = Path(f\"./base_datos/inventario/{file}\")\n",
    "            df.to_parquet(f\"{file_path}.parquet\", engine='pyarrow')\n",
    "            print(\"File read as parquet\")\n",
    "            \n",
    "        elif file_extension in ['.xls', '.xlsx']:\n",
    "            df = pd.read_excel(file_path, engine='openpyxl')\n",
    "            df = df.apply(lambda col: col.astype(str) if col.dtype == 'object' else col)\n",
    "            file = Path(file).stem\n",
    "            file_path = Path(f\"./base_datos/inventario/{file}\")\n",
    "            df.to_parquet(f\"{file_path}.parquet\", engine='pyarrow')\n",
    "            print(\"File read as parquet\")\n",
    "        else:\n",
    "            print(\"File format not supported. Check if use as CSV or XLSX file.\")\n",
    "            return None\n",
    "    except Exception as e:\n",
    "        print(f\"Error reading file: {e}\")\n",
    "        return None\n",
    "\n",
    "    # Check if the dataframe was loaded correctly.\n",
    "    if df is not None:\n",
    "        return df\n",
    "    else:\n",
    "        print(\"Failed to load file.\")\n",
    "        return None"
   ]
  },
  {
   "cell_type": "code",
   "execution_count": 9,
   "metadata": {},
   "outputs": [],
   "source": [
    "REDSHIFT_USER= '2024_simon_tiberio'\n",
    "REDSHIFT_PASSWORD='L8&!9^2$xQ'\n",
    "REDSHIFT_DB= 'pda'\n",
    "REDSHIFT_HOST='redshift-pda-cluster.cnuimntownzt.us-east-2.redshift.amazonaws.com'\n",
    "REDSHIFT_PORT= 5439"
   ]
  },
  {
   "cell_type": "code",
   "execution_count": 10,
   "metadata": {},
   "outputs": [],
   "source": [
    "def load_data_to_Redshift (file : str, redshift_table : str ) :\n",
    "    REDSHIFT_USER= '2024_simon_tiberio'\n",
    "    REDSHIFT_PASSWORD='L8&!9^2$xQ'\n",
    "    REDSHIFT_DB= 'pda'\n",
    "    REDSHIFT_HOST='redshift-pda-cluster.cnuimntownzt.us-east-2.redshift.amazonaws.com'\n",
    "    REDSHIFT_PORT= 5439\n",
    "\n",
    "    # Create URL to connect with SQLAlchemy\n",
    "\n",
    "    connection_url = f\"postgresql://{REDSHIFT_USER}:{REDSHIFT_PASSWORD}@{REDSHIFT_HOST}:{REDSHIFT_PORT}/{REDSHIFT_DB}\"\n",
    "\n",
    "    # Create connection with SQLAlchemy\n",
    "    engine = create_engine(connection_url)\n",
    "\n",
    "    try:\n",
    "        with engine.connect() as connection:\n",
    "            print(\"Connection to Redshift successful!\")\n",
    "            result = connection.execute(\"SELECT current_date;\")\n",
    "            for row in result:\n",
    "                print(\"update from Redshift:\", row[0])\n",
    "    except Exception as e:\n",
    "            print(f\"Error getting with Redshift conection: {e}\")\n",
    "\n",
    "    df = load_data(file)\n",
    "    file = Path(file).stem\n",
    "    file_path = Path(f\"./base_datos/inventario/{file}\")\n",
    "    df = pd.read_parquet(f\"{file_path}.parquet\")\n",
    "   \n",
    "    df.to_sql(redshift_table, con=engine, schema= redshift_table, if_exists='append', index=False)\n",
    "\n",
    "    print(f\"File loaded into Redshift table {redshift_table}\")\n"
   ]
  },
  {
   "cell_type": "code",
   "execution_count": 8,
   "metadata": {},
   "outputs": [
    {
     "ename": "NameError",
     "evalue": "name 'REDSHIFT_USER' is not defined",
     "output_type": "error",
     "traceback": [
      "\u001b[1;31m---------------------------------------------------------------------------\u001b[0m",
      "\u001b[1;31mNameError\u001b[0m                                 Traceback (most recent call last)",
      "Cell \u001b[1;32mIn[8], line 1\u001b[0m\n\u001b[1;32m----> 1\u001b[0m \u001b[43mload_data_to_Redshift\u001b[49m\u001b[43m(\u001b[49m\u001b[38;5;124;43m'\u001b[39;49m\u001b[38;5;124;43mstock_ferrimac.xlsx\u001b[39;49m\u001b[38;5;124;43m'\u001b[39;49m\u001b[43m,\u001b[49m\u001b[43m \u001b[49m\u001b[38;5;124;43m'\u001b[39;49m\u001b[38;5;124;43mstock_ferrimac\u001b[39;49m\u001b[38;5;124;43m'\u001b[39;49m\u001b[43m)\u001b[49m\n",
      "Cell \u001b[1;32mIn[7], line 5\u001b[0m, in \u001b[0;36mload_data_to_Redshift\u001b[1;34m(file, redshift_table)\u001b[0m\n\u001b[0;32m      1\u001b[0m \u001b[38;5;28;01mdef\u001b[39;00m \u001b[38;5;21mload_data_to_Redshift\u001b[39m (file : \u001b[38;5;28mstr\u001b[39m, redshift_table : \u001b[38;5;28mstr\u001b[39m ) :\n\u001b[0;32m      2\u001b[0m \n\u001b[0;32m      3\u001b[0m     \u001b[38;5;66;03m# Create URL to connect with SQLAlchemy\u001b[39;00m\n\u001b[1;32m----> 5\u001b[0m     connection_url \u001b[38;5;241m=\u001b[39m \u001b[38;5;124mf\u001b[39m\u001b[38;5;124m\"\u001b[39m\u001b[38;5;124mpostgresql://\u001b[39m\u001b[38;5;132;01m{\u001b[39;00mREDSHIFT_USER\u001b[38;5;132;01m}\u001b[39;00m\u001b[38;5;124m:\u001b[39m\u001b[38;5;132;01m{\u001b[39;00mREDSHIFT_PASSWORD\u001b[38;5;132;01m}\u001b[39;00m\u001b[38;5;124m@\u001b[39m\u001b[38;5;132;01m{\u001b[39;00mREDSHIFT_HOST\u001b[38;5;132;01m}\u001b[39;00m\u001b[38;5;124m:\u001b[39m\u001b[38;5;132;01m{\u001b[39;00mREDSHIFT_PORT\u001b[38;5;132;01m}\u001b[39;00m\u001b[38;5;124m/\u001b[39m\u001b[38;5;132;01m{\u001b[39;00mREDSHIFT_DB\u001b[38;5;132;01m}\u001b[39;00m\u001b[38;5;124m\"\u001b[39m\n\u001b[0;32m      7\u001b[0m     \u001b[38;5;66;03m# Create connection with SQLAlchemy\u001b[39;00m\n\u001b[0;32m      8\u001b[0m     engine \u001b[38;5;241m=\u001b[39m create_engine(connection_url)\n",
      "\u001b[1;31mNameError\u001b[0m: name 'REDSHIFT_USER' is not defined"
     ]
    }
   ],
   "source": [
    "load_data_to_Redshift('stock_ferrimac.xlsx', 'stock_ferrimac')"
   ]
  },
  {
   "cell_type": "code",
   "execution_count": 21,
   "metadata": {},
   "outputs": [],
   "source": [
    "if date.date() in df_quotes['date'].dt.date.values:\n",
    "    current_price = df_quotes.loc[df_quotes['date'].dt.date == date.date(), 'price'].values\n",
    "    print(current_price)\n",
    "\n"
   ]
  },
  {
   "cell_type": "code",
   "execution_count": 22,
   "metadata": {},
   "outputs": [
    {
     "data": {
      "text/plain": [
       "datetime.date(2024, 10, 10)"
      ]
     },
     "execution_count": 22,
     "metadata": {},
     "output_type": "execute_result"
    }
   ],
   "source": [
    "date.date()"
   ]
  },
  {
   "cell_type": "code",
   "execution_count": 23,
   "metadata": {},
   "outputs": [
    {
     "data": {
      "text/plain": [
       "array([datetime.date(2024, 9, 9), datetime.date(2024, 9, 10),\n",
       "       datetime.date(2024, 9, 11), datetime.date(2024, 9, 12),\n",
       "       datetime.date(2024, 9, 13), datetime.date(2024, 9, 14),\n",
       "       datetime.date(2024, 9, 15), datetime.date(2024, 9, 16),\n",
       "       datetime.date(2024, 9, 17), datetime.date(2024, 9, 18),\n",
       "       datetime.date(2024, 9, 19), datetime.date(2024, 9, 20),\n",
       "       datetime.date(2024, 9, 21), datetime.date(2024, 9, 22),\n",
       "       datetime.date(2024, 9, 23), datetime.date(2024, 9, 24),\n",
       "       datetime.date(2024, 9, 25), datetime.date(2024, 9, 26),\n",
       "       datetime.date(2024, 9, 27), datetime.date(2024, 9, 28),\n",
       "       datetime.date(2024, 9, 29), datetime.date(2024, 9, 30),\n",
       "       datetime.date(2024, 10, 1), datetime.date(2024, 10, 2),\n",
       "       datetime.date(2024, 10, 3), datetime.date(2024, 10, 4),\n",
       "       datetime.date(2024, 10, 5), datetime.date(2024, 10, 6),\n",
       "       datetime.date(2024, 10, 7), datetime.date(2024, 10, 8),\n",
       "       datetime.date(2024, 10, 9), datetime.date(2024, 10, 11),\n",
       "       datetime.date(2024, 10, 12), datetime.date(2024, 10, 14),\n",
       "       datetime.date(2024, 10, 15), datetime.date(2024, 10, 16)],\n",
       "      dtype=object)"
      ]
     },
     "execution_count": 23,
     "metadata": {},
     "output_type": "execute_result"
    }
   ],
   "source": [
    "df_quotes['date'].dt.date.values"
   ]
  },
  {
   "cell_type": "code",
   "execution_count": 29,
   "metadata": {},
   "outputs": [],
   "source": [
    "import pandas as pd\n",
    "from pathlib import Path\n",
    "\n",
    "def monetize_stock(stock_file: str, quotes_file: str, date: str):\n",
    "    \n",
    "    # Define directory of files.\n",
    "    base_dir = './base_datos/inventario'\n",
    "    base_path = Path(base_dir)\n",
    "    list_prices_file = 'list_price_ferrimac.xlsx'\n",
    "    monetized_stock_file = 'monetized_stock.xlsx'\n",
    "    \n",
    "    # Load paths.\n",
    "    stock_path = base_path / stock_file\n",
    "    list_prices_path = base_path / list_prices_file\n",
    "    quotes_path = base_path / quotes_file\n",
    "    monetized_stock_path = base_path / monetized_stock_file\n",
    "    \n",
    "    # Verify if all necessary files exist.\n",
    "    if stock_path.exists() and list_prices_path.exists() and quotes_path.exists():\n",
    "        \n",
    "        # Read stock, list price and quotes files.\n",
    "        df_stock = pd.read_excel(stock_path, engine='openpyxl')\n",
    "        df_quotes = pd.read_csv(quotes_path)\n",
    "        df_list_prices = pd.read_excel(list_prices_path, engine='openpyxl')\n",
    "        \n",
    "        # Convert date columns to datetime format, starting from column 6 (index 5).\n",
    "        date_columns = df_stock.columns[5:]\n",
    "        df_stock[date_columns] = df_stock[date_columns].apply(pd.to_datetime, errors='coerce', dayfirst=True)\n",
    "\n",
    "        df_quotes['date'] = pd.to_datetime(df_quotes['date'], errors='coerce', format='%Y-%m-%d')\n",
    "        df_list_prices.columns = pd.to_datetime(df_list_prices.columns, errors='coerce', dayfirst=True)\n",
    "        \n",
    "        # Convert input date to datetime format. \n",
    "        date = pd.to_datetime(date, format='%Y-%m-%d')\n",
    "\n",
    "        # Check if the date exists in df_quotes.\n",
    "        if date in df_quotes['date'].values:\n",
    "            current_price = df_quotes.loc[df_quotes['date'] == date, 'price'].values\n",
    "            if len(current_price) > 0:\n",
    "                current_price = current_price[0]  # Get the first value of the price.\n",
    "\n",
    "                # Verificar que la columna correspondiente a la fecha contiene valores numéricos\n",
    "                if date in df_stock.columns and pd.api.types.is_numeric_dtype(df_stock[date]):\n",
    "                    # Multiplica solo las columnas numéricas relevantes\n",
    "                    df_stock[date] = (df_stock[date] * current_price * df_list_prices.iloc[:, -1]).round(2)\n",
    "                    \n",
    "                    # Load the existing monetized stock file if it exists, or initialize an empty DataFrame if not.\n",
    "                    if monetized_stock_path.exists():\n",
    "                        df_monetized_stock = pd.read_excel(monetized_stock_path, engine='openpyxl')\n",
    "                    else:\n",
    "                        df_monetized_stock = pd.DataFrame(df_stock['id_product'])\n",
    "                    \n",
    "                    # Add or update the column for the current date.\n",
    "                    df_monetized_stock[date] = df_stock[date]\n",
    "                    \n",
    "                    # Save the updated stock with all dates to the file.\n",
    "                    df_monetized_stock.to_excel(monetized_stock_path, index=False)\n",
    "                    \n",
    "                    print(f\"Stock file has been updated for date {date}.\")\n",
    "                else:\n",
    "                    print(f\"La columna para la fecha {date} no contiene valores numéricos.\")\n",
    "            else:\n",
    "                print(f\"Price not found for date {date}.\")\n",
    "        else:\n",
    "            print(f\"Date {date} not found in df_quotes['date'].\")\n",
    "    else:\n",
    "        print(\"One or more files do not exist. Check the names and paths.\")\n"
   ]
  },
  {
   "cell_type": "code",
   "execution_count": 31,
   "metadata": {},
   "outputs": [
    {
     "name": "stdout",
     "output_type": "stream",
     "text": [
      "La columna para la fecha 2024-09-09 00:00:00 no contiene valores numéricos.\n"
     ]
    },
    {
     "name": "stderr",
     "output_type": "stream",
     "text": [
      "C:\\Users\\Novakorp\\AppData\\Local\\Temp\\ipykernel_14560\\82895196.py:31: UserWarning: Could not infer format, so each element will be parsed individually, falling back to `dateutil`. To ensure parsing is consistent and as-expected, please specify a format.\n",
      "  df_list_prices.columns = pd.to_datetime(df_list_prices.columns, errors='coerce', dayfirst=True)\n"
     ]
    }
   ],
   "source": [
    "monetize_stock(stock_file, quotes_file, '2024-09-09')"
   ]
  },
  {
   "cell_type": "code",
   "execution_count": null,
   "metadata": {},
   "outputs": [],
   "source": []
  },
  {
   "cell_type": "code",
   "execution_count": null,
   "metadata": {},
   "outputs": [],
   "source": []
  },
  {
   "cell_type": "code",
   "execution_count": null,
   "metadata": {},
   "outputs": [],
   "source": []
  }
 ],
 "metadata": {
  "kernelspec": {
   "display_name": "Python 3 (ipykernel)",
   "language": "python",
   "name": "python3"
  },
  "language_info": {
   "codemirror_mode": {
    "name": "ipython",
    "version": 3
   },
   "file_extension": ".py",
   "mimetype": "text/x-python",
   "name": "python",
   "nbconvert_exporter": "python",
   "pygments_lexer": "ipython3",
   "version": "3.10.0"
  }
 },
 "nbformat": 4,
 "nbformat_minor": 4
}
